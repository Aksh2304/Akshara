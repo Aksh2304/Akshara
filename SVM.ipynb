{
 "cells": [
  {
   "cell_type": "code",
   "execution_count": 7,
   "metadata": {},
   "outputs": [],
   "source": [
    "\n",
    "# importing some basic libraries\n",
    "%matplotlib inline\n",
    "import matplotlib.pyplot as plt\n",
    "from matplotlib import style\n",
    "style.use('ggplot')\n",
    "import numpy as np"
   ]
  },
  {
   "cell_type": "code",
   "execution_count": 5,
   "metadata": {},
   "outputs": [],
   "source": [
    "class SVM(object):\n",
    "    def __init__(self,visualization=True):\n",
    "        self.visualization=visualization\n",
    "        self.colors={1:\"r\",-1:\"b\"}\n",
    "        if self.visualization:\n",
    "            self.fig=plt.figure()\n",
    "            self.ax=self.fig.add_subplot(1,1,1)\n",
    "    def fit(self,data):\n",
    "        self.data=data\n",
    "        opt_dict={}\n",
    "        transforms=[[1,1],[-1,1],[-1,-1],[1,-1]]\n",
    "        all_data=np.array([])\n",
    "        for yi in self.data:\n",
    "            all_data=np.append(all_data,self.data[yi])\n",
    "        self.max_feature_value=max(all_data)\n",
    "        self.min_feature_value=min(all_data)\n",
    "        all_data=None\n",
    "        step_sizes=[self.max_feature_value*0.1,\n",
    "                   self.max_feature_value*0.01,\n",
    "                   self.max_feature_value*0.001,]\n",
    "        b_range_multiple=5\n",
    "        b_multiple=5\n",
    "        latest_optimum=self.max_feature_value*10\n",
    "        for step in step_sizes:\n",
    "            w=np.array([latest_optimum,latest_optimum])\n",
    "            optimized=False\n",
    "            while not optimized:\n",
    "                    for b in np.arange(-1*self.max_feature_value,\n",
    "                                      self.max_feature_value*b_range_multiple,\n",
    "                                      step*b_multiple):\n",
    "                        for transformation in transforms:\n",
    "                            w_t=w*transformation\n",
    "                            found_option=True\n",
    "                            for i in self.data:\n",
    "                                for xi in self.data[i]:\n",
    "                                    yi=i\n",
    "                                    if not yi*(np.dot(w_t,xi)+b)>=1:\n",
    "                                        found_option=False\n",
    "                            if found_option:\n",
    "                                opt_dict[np.linalg.norm(w_t,b)]=[w_t,b]\n",
    "                    if w[0]<0:\n",
    "                        optimized=True\n",
    "                    else:\n",
    "                        w=w-step\n",
    "                        norms = sorted([n for n in opt_dict])\n",
    "                        opt_choice=opt_dict[norms[0]]\n",
    "                        self.w=opt_choice[0]\n",
    "                        self.b=opt_choice[1]\n",
    "                        latest_optimum=opt_choice[0][0]+step*2\n",
    "    def predict(self,features):\n",
    "        classification=np.sign(np.dot(np.array(features),self.w)+self.b)\n",
    "        if classification!=0 and self.visualization:\n",
    "            self.ax.scatter(features [0],features[1],s=200,marker=\"*\",c=self.colors[classification])\n",
    "        return (classification,np.dot(np.array(features),self.w)+self.b)\n",
    "    def visualize(self):\n",
    "        [[self.ax.scatter(x[0],x[1],s=100,c=self.colors[i])for x in data_dict[i]] for i in data_dict]\n",
    "        def hyperplane(x,w,b,v):\n",
    "            return (-w[0]*x-b+v)/w[1]\n",
    "        hyp_x_min=self.min_feature_value*0.9\n",
    "        hyp_x_max=self.max_feature_value*1.1\n",
    "        #Positive SVM\n",
    "        pav1=hyperplane(hyp_x_min,self.w,self.b,1)\n",
    "        pav2=hyperplane(hyp_x_max,self.w,self.b,1)\n",
    "        self.ax.plot([hyp_x_min,hyp_x_max],[pav1,pav2],\"k\")\n",
    "        #Negative SVM\n",
    "        nav1=hyperplane(hyp_x_min,self.w,self.b,-1)\n",
    "        nav2=hyperplane(hyp_x_max,self.w,self.b,-1)\n",
    "        self.ax.plot([hyp_x_min,hyp_x_max],[nav1,nav2],\"k\")\n",
    "        # db support vector hyperplane\n",
    "        db1 = hyperplane(hyp_x_min,self.w,self.b,0)\n",
    "        db2 = hyperplane(hyp_x_max,self.w,self.b,0)\n",
    "        self.ax.plot([hyp_x_min,hyp_x_max],[db1,db2],'y--')\n",
    "        \n",
    "        "
   ]
  },
  {
   "cell_type": "code",
   "execution_count": 8,
   "metadata": {},
   "outputs": [
    {
     "data": {
      "text/plain": [
       "{-1: array([[1, 7],\n",
       "        [2, 8],\n",
       "        [3, 8]]),\n",
       " 1: array([[ 5,  1],\n",
       "        [ 6, -1],\n",
       "        [ 7,  3]])}"
      ]
     },
     "execution_count": 8,
     "metadata": {},
     "output_type": "execute_result"
    }
   ],
   "source": [
    "#defining a basic data\n",
    "data_dict = {-1:np.array([[1,7],[2,8],[3,8]]),1:np.array([[5,1],[6,-1],[7,3]])}\n",
    "data_dict"
   ]
  },
  {
   "cell_type": "code",
   "execution_count": 9,
   "metadata": {},
   "outputs": [
    {
     "name": "stderr",
     "output_type": "stream",
     "text": [
      "C:\\Users\\Admin\\anaconda3\\envs\\tensoraksh\\lib\\site-packages\\numpy\\linalg\\linalg.py:2570: RuntimeWarning: overflow encountered in double_scalars\n",
      "  ret **= (1 / ord)\n"
     ]
    },
    {
     "data": {
      "image/png": "[encoded data removed]",
      "text/plain": [
       "<Figure size 432x288 with 1 Axes>"
      ]
     },
     "metadata": {},
     "output_type": "display_data"
    }
   ],
   "source": [
    "svm = SVM() # Linear Kernel\n",
    "svm.fit(data=data_dict)\n",
    "svm.visualize()"
   ]
  }
 ],
 "metadata": {
  "kernelspec": {
   "display_name": "Python 3",
   "language": "python",
   "name": "python3"
  },
  "language_info": {
   "codemirror_mode": {
    "name": "ipython",
    "version": 3
   },
   "file_extension": ".py",
   "mimetype": "text/x-python",
   "name": "python",
   "nbconvert_exporter": "python",
   "pygments_lexer": "ipython3",
   "version": "3.6.12"
  }
 },
 "nbformat": 4,
 "nbformat_minor": 4
}
