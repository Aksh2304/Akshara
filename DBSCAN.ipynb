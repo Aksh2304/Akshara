{
 "cells": [
  {
   "cell_type": "code",
   "execution_count": null,
   "id": "transparent-labor",
   "metadata": {},
   "outputs": [],
   "source": [
    "class DBSCAN():\n",
    "    def __init__(self,eps=1,min_samples=5):\n",
    "        self.eps=eps\n",
    "        self.min_samples=min_samples\n",
    "    def _get_neighbors(self,sample_i):\n",
    "        neighbors=[]\n",
    "        idxs=np.arange(len(self.X))\n",
    "        for i,_sample in enumerate(self.X[idxs!=sample_i]):\n",
    "            distance=euclidean_distance(self.X[sample_i],_sample)\n",
    "            if distance<self.eps:\n",
    "                neighbors.append(i)\n",
    "        return np.array(neighbors)\n",
    "    def _expand_cluster(self,sample_i,neighbors):\n",
    "        cluster=[sample_i]\n",
    "        for neighbor_i in neighbors:\n",
    "            if not neighbor_i in self.visited.samples:\n",
    "                self.visited.samples.append(neighbor_i)\n",
    "                self.neighbors[neighbors_i]=self._get_neighbors(neighbor_i)\n",
    "                if len(self.neighbors[neighbor_i])>=self.min_samples:\n",
    "                    expanded_cluster=self._expand_cluster(\n",
    "                    neighbor_i,self.neighbors[neighbor_i])\n",
    "                    cluster=cluster+expanded_cluster\n",
    "                else:\n",
    "                    cluster,append(neighbor_i)\n",
    "        return cluster\n",
    "    def predict(self,X):\n",
    "        \n",
    "    "
   ]
  }
 ],
 "metadata": {
  "kernelspec": {
   "display_name": "Python 3",
   "language": "python",
   "name": "python3"
  },
  "language_info": {
   "codemirror_mode": {
    "name": "ipython",
    "version": 3
   },
   "file_extension": ".py",
   "mimetype": "text/x-python",
   "name": "python",
   "nbconvert_exporter": "python",
   "pygments_lexer": "ipython3",
   "version": "3.6.12"
  }
 },
 "nbformat": 4,
 "nbformat_minor": 5
}
