{
 "cells": [
  {
   "cell_type": "code",
   "execution_count": 1,
   "id": "chicken-bolivia",
   "metadata": {},
   "outputs": [],
   "source": [
    "class LogisticRegression():\n",
    "    def __init__(self,learning_rate=0.1,gradient_descent=True):\n",
    "        self.param=None\n",
    "        self.learning_rate=learning_rate\n",
    "        self.gradient_descent=gradient_descent\n",
    "        self.sigmoid=sigmoid()\n",
    "    def _initialize_(self,X):\n",
    "        n_features=np.shape(X)[1]\n",
    "        limit=1/math.sqrt(n_features)\n",
    "        self.param=np.random.uniform(-limit,limit,(n_features,))\n",
    "    def fit(self,X,y,n_iterations=4000):\n",
    "        self._initialize_parameters(X)\n",
    "        for i in range(n_iterations):\n",
    "            y_pred=self.sigmoid(X.dot(self.param))\n",
    "            if self.gradient_descent:\n",
    "                self.param-=self.learning_rate*-(y-y_pred).dot(X)\n",
    "            else:\n",
    "                diag_gradient=make_diagonal(self.sigmoid.gradient(X.dot(self.param)))\n",
    "                self.param=np.linalg.pinv(X.T.dot(diag_gradient).dot(X).dot(X.T).dot(diag_gradient.dot(X).dot(self.param)+y-y_pred))\n",
    "    def predict(self, X):\n",
    "        y_pred = np.round(self.sigmoid(X.dot(self.param))).astype(int)\n",
    "        return y_pred"
   ]
  }
 ],
 "metadata": {
  "kernelspec": {
   "display_name": "Python 3",
   "language": "python",
   "name": "python3"
  },
  "language_info": {
   "codemirror_mode": {
    "name": "ipython",
    "version": 3
   },
   "file_extension": ".py",
   "mimetype": "text/x-python",
   "name": "python",
   "nbconvert_exporter": "python",
   "pygments_lexer": "ipython3",
   "version": "3.6.12"
  }
 },
 "nbformat": 4,
 "nbformat_minor": 5
}
