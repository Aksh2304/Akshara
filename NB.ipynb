{
 "cells": [
  {
   "cell_type": "code",
   "execution_count": 3,
   "metadata": {},
   "outputs": [
    {
     "name": "stdout",
     "output_type": "stream",
     "text": [
      "Collecting progressbar\n",
      "  Downloading progressbar-2.5.tar.gz (10 kB)\n",
      "Building wheels for collected packages: progressbar\n",
      "  Building wheel for progressbar (setup.py): started\n",
      "  Building wheel for progressbar (setup.py): finished with status 'done'\n",
      "  Created wheel for progressbar: filename=progressbar-2.5-py3-none-any.whl size=12075 sha256=886e260a8a13f1e368c28502b956ee5f19819a4b02d7bc5a3d7c270d3a924c6c\n",
      "  Stored in directory: c:\\users\\admin\\appdata\\local\\pip\\cache\\wheels\\bc\\13\\93\\a9bf6b3d3966e4af014b0dbef027fdea47393faf47e990349f\n",
      "Successfully built progressbar\n",
      "Installing collected packages: progressbar\n",
      "Successfully installed progressbar-2.5\n"
     ]
    }
   ],
   "source": [
    "!pip install progressbar"
   ]
  },
  {
   "cell_type": "code",
   "execution_count": 2,
   "metadata": {},
   "outputs": [],
   "source": [
    "from sklearn.model_selection import train_test_split"
   ]
  },
  {
   "cell_type": "code",
   "execution_count": 6,
   "metadata": {},
   "outputs": [
    {
     "ename": "ImportError",
     "evalue": "cannot import name 'train_test_split'",
     "output_type": "error",
     "traceback": [
      "\u001b[1;31m---------------------------------------------------------------------------\u001b[0m",
      "\u001b[1;31mImportError\u001b[0m                               Traceback (most recent call last)",
      "\u001b[1;32m<ipython-input-6-efdf3014d62d>\u001b[0m in \u001b[0;36m<module>\u001b[1;34m\u001b[0m\n\u001b[0;32m      2\u001b[0m \u001b[1;32mimport\u001b[0m \u001b[0mnumpy\u001b[0m \u001b[1;32mas\u001b[0m \u001b[0mnp\u001b[0m\u001b[1;33m\u001b[0m\u001b[1;33m\u001b[0m\u001b[0m\n\u001b[0;32m      3\u001b[0m \u001b[1;32mimport\u001b[0m \u001b[0mmath\u001b[0m\u001b[1;33m\u001b[0m\u001b[1;33m\u001b[0m\u001b[0m\n\u001b[1;32m----> 4\u001b[1;33m \u001b[1;32mfrom\u001b[0m \u001b[0mutils\u001b[0m \u001b[1;32mimport\u001b[0m \u001b[0mtrain_test_split\u001b[0m\u001b[1;33m,\u001b[0m \u001b[0mnormalize\u001b[0m\u001b[1;33m\u001b[0m\u001b[1;33m\u001b[0m\u001b[0m\n\u001b[0m\u001b[0;32m      5\u001b[0m \u001b[1;32mfrom\u001b[0m \u001b[0mutils\u001b[0m \u001b[1;32mimport\u001b[0m \u001b[0mPlot\u001b[0m\u001b[1;33m,\u001b[0m \u001b[0maccuracy_score\u001b[0m\u001b[1;33m\u001b[0m\u001b[1;33m\u001b[0m\u001b[0m\n",
      "\u001b[1;31mImportError\u001b[0m: cannot import name 'train_test_split'"
     ]
    }
   ],
   "source": [
    "from __future__ import division, print_function\n",
    "import numpy as np\n",
    "import math\n",
    "from utils import train_test_split, normalize\n",
    "from utils import Plot, accuracy_score"
   ]
  },
  {
   "cell_type": "code",
   "execution_count": 2,
   "metadata": {},
   "outputs": [],
   "source": [
    "class NaiveBayes():\n",
    "    def fit(self,X,y):\n",
    "        self.X,self.y=X,y\n",
    "        self.classes=np.unique(y)\n",
    "        self.parameters=[]\n",
    "        #Calculate the mean and variance of each feature for each class\n",
    "        for i,c in enumerate(self.classes):\n",
    "            #Only select the rows where the label equals given class\n",
    "            X_where_c=X[np.where(y==c)]\n",
    "            self.parameters.append([])\n",
    "            #Add mean and variance for each feature(column)\n",
    "            for col in X_where_c.T:\n",
    "                parameters={\"mean\":col.mean(),\"var\":col.var()}\n",
    "                self.parameters[i].append(parameters)\n",
    "    def _calculate_likelihood(self,mean,var,x):\n",
    "        eps=1e-4 #Added in denominator to prevent division by zero\n",
    "        coeff=1.0/math.sqrt(2.0*math.pi*var+eps)\n",
    "        exponent=math.exp(-(math.pow(x-mean,2)/(2*var+eps)))\n",
    "        return coeff*exponent\n",
    "    def _calculate_prior(self,c):\n",
    "        frequency=np.mean(self.y==c)\n",
    "        return frequency\n",
    "    def _classify(self,sample):\n",
    "        posteriors=[]\n",
    "        for i,c in enumerate(self,classes):\n",
    "            posterior=self._calculate_prior(c)\n",
    "            for feature_value,params in zip(sample,self.parameters[i]):\n",
    "                likelihood=self._calculate_likelihood(params[\"mean\"],params[\"var\"],feature_value)\n",
    "                posterior*=likelihood\n",
    "            posterior.append(posterior)\n",
    "        return self.classes[np.argmax(posteriors)]\n",
    "    def predict(self,X):\n",
    "        y_pred=[self._classify(sample) for sample in x]\n",
    "        return y_pred\n",
    "                \n",
    "        "
   ]
  },
  {
   "cell_type": "code",
   "execution_count": null,
   "metadata": {},
   "outputs": [],
   "source": []
  },
  {
   "cell_type": "code",
   "execution_count": null,
   "metadata": {},
   "outputs": [],
   "source": []
  },
  {
   "cell_type": "code",
   "execution_count": null,
   "metadata": {},
   "outputs": [],
   "source": []
  }
 ],
 "metadata": {
  "kernelspec": {
   "display_name": "Python 3",
   "language": "python",
   "name": "python3"
  },
  "language_info": {
   "codemirror_mode": {
    "name": "ipython",
    "version": 3
   },
   "file_extension": ".py",
   "mimetype": "text/x-python",
   "name": "python",
   "nbconvert_exporter": "python",
   "pygments_lexer": "ipython3",
   "version": "3.6.12"
  }
 },
 "nbformat": 4,
 "nbformat_minor": 4
}
