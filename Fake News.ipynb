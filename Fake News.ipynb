{
 "cells": [
  {
   "cell_type": "code",
   "execution_count": 1,
   "id": "outdoor-equipment",
   "metadata": {},
   "outputs": [],
   "source": [
    "import numpy as np \n",
    "import pandas as pd "
   ]
  },
  {
   "cell_type": "code",
   "execution_count": 2,
   "id": "seeing-assurance",
   "metadata": {},
   "outputs": [],
   "source": [
    "import os"
   ]
  },
  {
   "cell_type": "code",
   "execution_count": 4,
   "id": "signed-african",
   "metadata": {},
   "outputs": [
    {
     "name": "stdout",
     "output_type": "stream",
     "text": [
      "E:\\AKPROJECTS\\NLP in R-TopicModelling\\abcnews-date-text.csv\n",
      "E:\\AKPROJECTS\\NLP in R-TopicModelling\\deceptive-opinion.csv\n",
      "E:\\AKPROJECTS\\NLP in R-TopicModelling\\Fake.csv\n",
      "E:\\AKPROJECTS\\NLP in R-TopicModelling\\Fake1.csv\n",
      "E:\\AKPROJECTS\\NLP in R-TopicModelling\\FakeNews.R\n",
      "E:\\AKPROJECTS\\NLP in R-TopicModelling\\NLP in R-Topic Modelling.Rmd\n",
      "E:\\AKPROJECTS\\NLP in R-TopicModelling\\True.csv\n"
     ]
    }
   ],
   "source": [
    "for dirname, _, filenames in os.walk('E:\\\\AKPROJECTS\\\\NLP in R-TopicModelling'):\n",
    "    for filename in filenames:\n",
    "        print(os.path.join(dirname, filename))"
   ]
  },
  {
   "cell_type": "code",
   "execution_count": 5,
   "id": "visible-sampling",
   "metadata": {},
   "outputs": [],
   "source": [
    "#Read Dataset\n",
    "Headlines = pd.read_csv('E:\\\\AKPROJECTS\\\\NLP in R-TopicModelling\\\\abcnews-date-text.csv', usecols =[\"headline_text\"]).dropna()"
   ]
  },
  {
   "cell_type": "code",
   "execution_count": 6,
   "id": "outer-status",
   "metadata": {},
   "outputs": [
    {
     "data": {
      "text/html": [
       "<div>\n",
       "<style scoped>\n",
       "    .dataframe tbody tr th:only-of-type {\n",
       "        vertical-align: middle;\n",
       "    }\n",
       "\n",
       "    .dataframe tbody tr th {\n",
       "        vertical-align: top;\n",
       "    }\n",
       "\n",
       "    .dataframe thead th {\n",
       "        text-align: right;\n",
       "    }\n",
       "</style>\n",
       "<table border=\"1\" class=\"dataframe\">\n",
       "  <thead>\n",
       "    <tr style=\"text-align: right;\">\n",
       "      <th></th>\n",
       "      <th>headline_text</th>\n",
       "    </tr>\n",
       "  </thead>\n",
       "  <tbody>\n",
       "    <tr>\n",
       "      <th>0</th>\n",
       "      <td>aba decides against community broadcasting lic...</td>\n",
       "    </tr>\n",
       "    <tr>\n",
       "      <th>1</th>\n",
       "      <td>act fire witnesses must be aware of defamation</td>\n",
       "    </tr>\n",
       "    <tr>\n",
       "      <th>2</th>\n",
       "      <td>a g calls for infrastructure protection summit</td>\n",
       "    </tr>\n",
       "    <tr>\n",
       "      <th>3</th>\n",
       "      <td>air nz staff in aust strike for pay rise</td>\n",
       "    </tr>\n",
       "    <tr>\n",
       "      <th>4</th>\n",
       "      <td>air nz strike to affect australian travellers</td>\n",
       "    </tr>\n",
       "    <tr>\n",
       "      <th>...</th>\n",
       "      <td>...</td>\n",
       "    </tr>\n",
       "    <tr>\n",
       "      <th>1226253</th>\n",
       "      <td>what abc readers learned from 2020 looking bac...</td>\n",
       "    </tr>\n",
       "    <tr>\n",
       "      <th>1226254</th>\n",
       "      <td>what are the south african and uk variants of ...</td>\n",
       "    </tr>\n",
       "    <tr>\n",
       "      <th>1226255</th>\n",
       "      <td>what victorias coronavirus restrictions mean f...</td>\n",
       "    </tr>\n",
       "    <tr>\n",
       "      <th>1226256</th>\n",
       "      <td>whats life like as an american doctor during c...</td>\n",
       "    </tr>\n",
       "    <tr>\n",
       "      <th>1226257</th>\n",
       "      <td>womens shed canberra reskilling unemployed pan...</td>\n",
       "    </tr>\n",
       "  </tbody>\n",
       "</table>\n",
       "<p>1226258 rows × 1 columns</p>\n",
       "</div>"
      ],
      "text/plain": [
       "                                             headline_text\n",
       "0        aba decides against community broadcasting lic...\n",
       "1           act fire witnesses must be aware of defamation\n",
       "2           a g calls for infrastructure protection summit\n",
       "3                 air nz staff in aust strike for pay rise\n",
       "4            air nz strike to affect australian travellers\n",
       "...                                                    ...\n",
       "1226253  what abc readers learned from 2020 looking bac...\n",
       "1226254  what are the south african and uk variants of ...\n",
       "1226255  what victorias coronavirus restrictions mean f...\n",
       "1226256  whats life like as an american doctor during c...\n",
       "1226257  womens shed canberra reskilling unemployed pan...\n",
       "\n",
       "[1226258 rows x 1 columns]"
      ]
     },
     "execution_count": 6,
     "metadata": {},
     "output_type": "execute_result"
    }
   ],
   "source": [
    "Headlines"
   ]
  },
  {
   "cell_type": "code",
   "execution_count": 8,
   "id": "appropriate-samba",
   "metadata": {},
   "outputs": [],
   "source": [
    "Headlines1 = pd.read_csv('E:\\\\AKPROJECTS\\\\NLP in R-TopicModelling\\\\Fake.csv',encoding=\"unicode_escape\", usecols =[\"title\"]).dropna()"
   ]
  },
  {
   "cell_type": "code",
   "execution_count": 9,
   "id": "twenty-fellowship",
   "metadata": {},
   "outputs": [
    {
     "data": {
      "text/html": [
       "<div>\n",
       "<style scoped>\n",
       "    .dataframe tbody tr th:only-of-type {\n",
       "        vertical-align: middle;\n",
       "    }\n",
       "\n",
       "    .dataframe tbody tr th {\n",
       "        vertical-align: top;\n",
       "    }\n",
       "\n",
       "    .dataframe thead th {\n",
       "        text-align: right;\n",
       "    }\n",
       "</style>\n",
       "<table border=\"1\" class=\"dataframe\">\n",
       "  <thead>\n",
       "    <tr style=\"text-align: right;\">\n",
       "      <th></th>\n",
       "      <th>title</th>\n",
       "    </tr>\n",
       "  </thead>\n",
       "  <tbody>\n",
       "    <tr>\n",
       "      <th>0</th>\n",
       "      <td>Donald Trump Sends Out Embarrassing New Year...</td>\n",
       "    </tr>\n",
       "    <tr>\n",
       "      <th>1</th>\n",
       "      <td>Drunk Bragging Trump Staffer Started Russian ...</td>\n",
       "    </tr>\n",
       "    <tr>\n",
       "      <th>2</th>\n",
       "      <td>Sheriff David Clarke Becomes An Internet Joke...</td>\n",
       "    </tr>\n",
       "    <tr>\n",
       "      <th>3</th>\n",
       "      <td>Trump Is So Obsessed He Even Has Obamas Name...</td>\n",
       "    </tr>\n",
       "    <tr>\n",
       "      <th>4</th>\n",
       "      <td>Pope Francis Just Called Out Donald Trump Dur...</td>\n",
       "    </tr>\n",
       "    <tr>\n",
       "      <th>...</th>\n",
       "      <td>...</td>\n",
       "    </tr>\n",
       "    <tr>\n",
       "      <th>23476</th>\n",
       "      <td>McPain: John McCain Furious That Iran Treated ...</td>\n",
       "    </tr>\n",
       "    <tr>\n",
       "      <th>23477</th>\n",
       "      <td>JUSTICE? Yahoo Settles E-mail Privacy Class-ac...</td>\n",
       "    </tr>\n",
       "    <tr>\n",
       "      <th>23478</th>\n",
       "      <td>Sunnistan: US and Allied Safe Zone Plan to T...</td>\n",
       "    </tr>\n",
       "    <tr>\n",
       "      <th>23479</th>\n",
       "      <td>How to Blow $700 Million: Al Jazeera America F...</td>\n",
       "    </tr>\n",
       "    <tr>\n",
       "      <th>23480</th>\n",
       "      <td>10 U.S. Navy Sailors Held by Iranian Military ...</td>\n",
       "    </tr>\n",
       "  </tbody>\n",
       "</table>\n",
       "<p>23481 rows × 1 columns</p>\n",
       "</div>"
      ],
      "text/plain": [
       "                                                   title\n",
       "0       Donald Trump Sends Out Embarrassing New Year...\n",
       "1       Drunk Bragging Trump Staffer Started Russian ...\n",
       "2       Sheriff David Clarke Becomes An Internet Joke...\n",
       "3       Trump Is So Obsessed He Even Has Obamas Name...\n",
       "4       Pope Francis Just Called Out Donald Trump Dur...\n",
       "...                                                  ...\n",
       "23476  McPain: John McCain Furious That Iran Treated ...\n",
       "23477  JUSTICE? Yahoo Settles E-mail Privacy Class-ac...\n",
       "23478  Sunnistan: US and Allied Safe Zone Plan to T...\n",
       "23479  How to Blow $700 Million: Al Jazeera America F...\n",
       "23480  10 U.S. Navy Sailors Held by Iranian Military ...\n",
       "\n",
       "[23481 rows x 1 columns]"
      ]
     },
     "execution_count": 9,
     "metadata": {},
     "output_type": "execute_result"
    }
   ],
   "source": [
    "Headlines1"
   ]
  },
  {
   "cell_type": "code",
   "execution_count": 10,
   "id": "urban-division",
   "metadata": {},
   "outputs": [],
   "source": [
    "Headlines2 = pd.read_csv('E:\\\\AKPROJECTS\\\\NLP in R-TopicModelling\\\\Fake1.csv',encoding=\"unicode_escape\", usecols =[\"title\"]).dropna()"
   ]
  },
  {
   "cell_type": "code",
   "execution_count": 11,
   "id": "social-liquid",
   "metadata": {},
   "outputs": [
    {
     "data": {
      "text/html": [
       "<div>\n",
       "<style scoped>\n",
       "    .dataframe tbody tr th:only-of-type {\n",
       "        vertical-align: middle;\n",
       "    }\n",
       "\n",
       "    .dataframe tbody tr th {\n",
       "        vertical-align: top;\n",
       "    }\n",
       "\n",
       "    .dataframe thead th {\n",
       "        text-align: right;\n",
       "    }\n",
       "</style>\n",
       "<table border=\"1\" class=\"dataframe\">\n",
       "  <thead>\n",
       "    <tr style=\"text-align: right;\">\n",
       "      <th></th>\n",
       "      <th>title</th>\n",
       "    </tr>\n",
       "  </thead>\n",
       "  <tbody>\n",
       "    <tr>\n",
       "      <th>0</th>\n",
       "      <td>Donald Trump Sends Out Embarrassing New Yearâ...</td>\n",
       "    </tr>\n",
       "    <tr>\n",
       "      <th>1</th>\n",
       "      <td>Drunk Bragging Trump Staffer Started Russian ...</td>\n",
       "    </tr>\n",
       "    <tr>\n",
       "      <th>2</th>\n",
       "      <td>Sheriff David Clarke Becomes An Internet Joke...</td>\n",
       "    </tr>\n",
       "    <tr>\n",
       "      <th>3</th>\n",
       "      <td>Trump Is So Obsessed He Even Has Obamaâs Na...</td>\n",
       "    </tr>\n",
       "    <tr>\n",
       "      <th>4</th>\n",
       "      <td>Pope Francis Just Called Out Donald Trump Dur...</td>\n",
       "    </tr>\n",
       "    <tr>\n",
       "      <th>...</th>\n",
       "      <td>...</td>\n",
       "    </tr>\n",
       "    <tr>\n",
       "      <th>23476</th>\n",
       "      <td>McPain: John McCain Furious That Iran Treated ...</td>\n",
       "    </tr>\n",
       "    <tr>\n",
       "      <th>23477</th>\n",
       "      <td>JUSTICE? Yahoo Settles E-mail Privacy Class-ac...</td>\n",
       "    </tr>\n",
       "    <tr>\n",
       "      <th>23478</th>\n",
       "      <td>Sunnistan: US and Allied âSafe Zoneâ Plan ...</td>\n",
       "    </tr>\n",
       "    <tr>\n",
       "      <th>23479</th>\n",
       "      <td>How to Blow $700 Million: Al Jazeera America F...</td>\n",
       "    </tr>\n",
       "    <tr>\n",
       "      <th>23480</th>\n",
       "      <td>10 U.S. Navy Sailors Held by Iranian Military ...</td>\n",
       "    </tr>\n",
       "  </tbody>\n",
       "</table>\n",
       "<p>23481 rows × 1 columns</p>\n",
       "</div>"
      ],
      "text/plain": [
       "                                                   title\n",
       "0       Donald Trump Sends Out Embarrassing New Yearâ...\n",
       "1       Drunk Bragging Trump Staffer Started Russian ...\n",
       "2       Sheriff David Clarke Becomes An Internet Joke...\n",
       "3       Trump Is So Obsessed He Even Has Obamaâs Na...\n",
       "4       Pope Francis Just Called Out Donald Trump Dur...\n",
       "...                                                  ...\n",
       "23476  McPain: John McCain Furious That Iran Treated ...\n",
       "23477  JUSTICE? Yahoo Settles E-mail Privacy Class-ac...\n",
       "23478  Sunnistan: US and Allied âSafe Zoneâ Plan ...\n",
       "23479  How to Blow $700 Million: Al Jazeera America F...\n",
       "23480  10 U.S. Navy Sailors Held by Iranian Military ...\n",
       "\n",
       "[23481 rows x 1 columns]"
      ]
     },
     "execution_count": 11,
     "metadata": {},
     "output_type": "execute_result"
    }
   ],
   "source": [
    "Headlines2"
   ]
  },
  {
   "cell_type": "code",
   "execution_count": 12,
   "id": "mechanical-official",
   "metadata": {},
   "outputs": [],
   "source": [
    "Headlines['fake'] = 0\n",
    "Headlines1['fake'] = 1\n",
    "Headlines2['fake'] = 1"
   ]
  },
  {
   "cell_type": "code",
   "execution_count": 13,
   "id": "upset-musician",
   "metadata": {},
   "outputs": [
    {
     "name": "stdout",
     "output_type": "stream",
     "text": [
      "Training dataset contains: 50000 Real headlines and 46962 Fake headlines.\n"
     ]
    }
   ],
   "source": [
    "#Downsize million-headlines dataset to first 50K rows\n",
    "data = pd.concat([Headlines[:50000],Headlines1,Headlines2])\n",
    "print('Training dataset contains: {} Real headlines and {} Fake headlines.'.format(50000,len(Headlines1)+len(Headlines2)))"
   ]
  },
  {
   "cell_type": "code",
   "execution_count": 21,
   "id": "interstate-bangladesh",
   "metadata": {},
   "outputs": [
    {
     "data": {
      "text/html": [
       "<div>\n",
       "<style scoped>\n",
       "    .dataframe tbody tr th:only-of-type {\n",
       "        vertical-align: middle;\n",
       "    }\n",
       "\n",
       "    .dataframe tbody tr th {\n",
       "        vertical-align: top;\n",
       "    }\n",
       "\n",
       "    .dataframe thead th {\n",
       "        text-align: right;\n",
       "    }\n",
       "</style>\n",
       "<table border=\"1\" class=\"dataframe\">\n",
       "  <thead>\n",
       "    <tr style=\"text-align: right;\">\n",
       "      <th></th>\n",
       "      <th>headline_text</th>\n",
       "      <th>fake</th>\n",
       "      <th>title</th>\n",
       "    </tr>\n",
       "  </thead>\n",
       "  <tbody>\n",
       "    <tr>\n",
       "      <th>0</th>\n",
       "      <td>aba decides against community broadcasting lic...</td>\n",
       "      <td>0</td>\n",
       "      <td>NaN</td>\n",
       "    </tr>\n",
       "    <tr>\n",
       "      <th>1</th>\n",
       "      <td>act fire witnesses must be aware of defamation</td>\n",
       "      <td>0</td>\n",
       "      <td>NaN</td>\n",
       "    </tr>\n",
       "    <tr>\n",
       "      <th>2</th>\n",
       "      <td>a g calls for infrastructure protection summit</td>\n",
       "      <td>0</td>\n",
       "      <td>NaN</td>\n",
       "    </tr>\n",
       "    <tr>\n",
       "      <th>3</th>\n",
       "      <td>air nz staff in aust strike for pay rise</td>\n",
       "      <td>0</td>\n",
       "      <td>NaN</td>\n",
       "    </tr>\n",
       "    <tr>\n",
       "      <th>4</th>\n",
       "      <td>air nz strike to affect australian travellers</td>\n",
       "      <td>0</td>\n",
       "      <td>NaN</td>\n",
       "    </tr>\n",
       "    <tr>\n",
       "      <th>...</th>\n",
       "      <td>...</td>\n",
       "      <td>...</td>\n",
       "      <td>...</td>\n",
       "    </tr>\n",
       "    <tr>\n",
       "      <th>23476</th>\n",
       "      <td>NaN</td>\n",
       "      <td>1</td>\n",
       "      <td>McPain: John McCain Furious That Iran Treated ...</td>\n",
       "    </tr>\n",
       "    <tr>\n",
       "      <th>23477</th>\n",
       "      <td>NaN</td>\n",
       "      <td>1</td>\n",
       "      <td>JUSTICE? Yahoo Settles E-mail Privacy Class-ac...</td>\n",
       "    </tr>\n",
       "    <tr>\n",
       "      <th>23478</th>\n",
       "      <td>NaN</td>\n",
       "      <td>1</td>\n",
       "      <td>Sunnistan: US and Allied âSafe Zoneâ Plan ...</td>\n",
       "    </tr>\n",
       "    <tr>\n",
       "      <th>23479</th>\n",
       "      <td>NaN</td>\n",
       "      <td>1</td>\n",
       "      <td>How to Blow $700 Million: Al Jazeera America F...</td>\n",
       "    </tr>\n",
       "    <tr>\n",
       "      <th>23480</th>\n",
       "      <td>NaN</td>\n",
       "      <td>1</td>\n",
       "      <td>10 U.S. Navy Sailors Held by Iranian Military ...</td>\n",
       "    </tr>\n",
       "  </tbody>\n",
       "</table>\n",
       "<p>96962 rows × 3 columns</p>\n",
       "</div>"
      ],
      "text/plain": [
       "                                           headline_text  fake  \\\n",
       "0      aba decides against community broadcasting lic...     0   \n",
       "1         act fire witnesses must be aware of defamation     0   \n",
       "2         a g calls for infrastructure protection summit     0   \n",
       "3               air nz staff in aust strike for pay rise     0   \n",
       "4          air nz strike to affect australian travellers     0   \n",
       "...                                                  ...   ...   \n",
       "23476                                                NaN     1   \n",
       "23477                                                NaN     1   \n",
       "23478                                                NaN     1   \n",
       "23479                                                NaN     1   \n",
       "23480                                                NaN     1   \n",
       "\n",
       "                                                   title  \n",
       "0                                                    NaN  \n",
       "1                                                    NaN  \n",
       "2                                                    NaN  \n",
       "3                                                    NaN  \n",
       "4                                                    NaN  \n",
       "...                                                  ...  \n",
       "23476  McPain: John McCain Furious That Iran Treated ...  \n",
       "23477  JUSTICE? Yahoo Settles E-mail Privacy Class-ac...  \n",
       "23478  Sunnistan: US and Allied âSafe Zoneâ Plan ...  \n",
       "23479  How to Blow $700 Million: Al Jazeera America F...  \n",
       "23480  10 U.S. Navy Sailors Held by Iranian Military ...  \n",
       "\n",
       "[96962 rows x 3 columns]"
      ]
     },
     "execution_count": 21,
     "metadata": {},
     "output_type": "execute_result"
    }
   ],
   "source": [
    "data"
   ]
  },
  {
   "cell_type": "code",
   "execution_count": 27,
   "id": "italian-michael",
   "metadata": {},
   "outputs": [],
   "source": [
    "data.to_csv(\"E:\\\\AKPROJECTS\\\\NLP in R-TopicModelling\\\\data.csv\",index=False)"
   ]
  },
  {
   "cell_type": "code",
   "execution_count": 31,
   "id": "advanced-compiler",
   "metadata": {},
   "outputs": [
    {
     "data": {
      "text/html": [
       "<div>\n",
       "<style scoped>\n",
       "    .dataframe tbody tr th:only-of-type {\n",
       "        vertical-align: middle;\n",
       "    }\n",
       "\n",
       "    .dataframe tbody tr th {\n",
       "        vertical-align: top;\n",
       "    }\n",
       "\n",
       "    .dataframe thead th {\n",
       "        text-align: right;\n",
       "    }\n",
       "</style>\n",
       "<table border=\"1\" class=\"dataframe\">\n",
       "  <thead>\n",
       "    <tr style=\"text-align: right;\">\n",
       "      <th></th>\n",
       "      <th>title</th>\n",
       "    </tr>\n",
       "  </thead>\n",
       "  <tbody>\n",
       "    <tr>\n",
       "      <th>50000</th>\n",
       "      <td>Donald Trump Sends Out Embarrassing New Year...</td>\n",
       "    </tr>\n",
       "    <tr>\n",
       "      <th>50001</th>\n",
       "      <td>Drunk Bragging Trump Staffer Started Russian ...</td>\n",
       "    </tr>\n",
       "    <tr>\n",
       "      <th>50002</th>\n",
       "      <td>Sheriff David Clarke Becomes An Internet Joke...</td>\n",
       "    </tr>\n",
       "    <tr>\n",
       "      <th>50003</th>\n",
       "      <td>Trump Is So Obsessed He Even Has Obamas Name...</td>\n",
       "    </tr>\n",
       "    <tr>\n",
       "      <th>50004</th>\n",
       "      <td>Pope Francis Just Called Out Donald Trump Dur...</td>\n",
       "    </tr>\n",
       "    <tr>\n",
       "      <th>...</th>\n",
       "      <td>...</td>\n",
       "    </tr>\n",
       "    <tr>\n",
       "      <th>96957</th>\n",
       "      <td>McPain: John McCain Furious That Iran Treated ...</td>\n",
       "    </tr>\n",
       "    <tr>\n",
       "      <th>96958</th>\n",
       "      <td>JUSTICE? Yahoo Settles E-mail Privacy Class-ac...</td>\n",
       "    </tr>\n",
       "    <tr>\n",
       "      <th>96959</th>\n",
       "      <td>Sunnistan: US and Allied âSafe Zoneâ Plan ...</td>\n",
       "    </tr>\n",
       "    <tr>\n",
       "      <th>96960</th>\n",
       "      <td>How to Blow $700 Million: Al Jazeera America F...</td>\n",
       "    </tr>\n",
       "    <tr>\n",
       "      <th>96961</th>\n",
       "      <td>10 U.S. Navy Sailors Held by Iranian Military ...</td>\n",
       "    </tr>\n",
       "  </tbody>\n",
       "</table>\n",
       "<p>46962 rows × 1 columns</p>\n",
       "</div>"
      ],
      "text/plain": [
       "                                                   title\n",
       "50000   Donald Trump Sends Out Embarrassing New Year...\n",
       "50001   Drunk Bragging Trump Staffer Started Russian ...\n",
       "50002   Sheriff David Clarke Becomes An Internet Joke...\n",
       "50003   Trump Is So Obsessed He Even Has Obamas Name...\n",
       "50004   Pope Francis Just Called Out Donald Trump Dur...\n",
       "...                                                  ...\n",
       "96957  McPain: John McCain Furious That Iran Treated ...\n",
       "96958  JUSTICE? Yahoo Settles E-mail Privacy Class-ac...\n",
       "96959  Sunnistan: US and Allied âSafe Zoneâ Plan ...\n",
       "96960  How to Blow $700 Million: Al Jazeera America F...\n",
       "96961  10 U.S. Navy Sailors Held by Iranian Military ...\n",
       "\n",
       "[46962 rows x 1 columns]"
      ]
     },
     "execution_count": 31,
     "metadata": {},
     "output_type": "execute_result"
    }
   ],
   "source": [
    "data = pd.read_csv(\"E:\\\\AKPROJECTS\\\\NLP in R-TopicModelling\\\\data.csv\", usecols =[\"title\"]).dropna()\n",
    "data"
   ]
  },
  {
   "cell_type": "code",
   "execution_count": 14,
   "id": "affected-aruba",
   "metadata": {},
   "outputs": [
    {
     "name": "stderr",
     "output_type": "stream",
     "text": [
      "C:\\Users\\Admin\\anaconda3\\envs\\tensorflowenv\\lib\\site-packages\\sklearn\\utils\\deprecation.py:143: FutureWarning: The sklearn.feature_extraction.stop_words module is  deprecated in version 0.22 and will be removed in version 0.24. The corresponding classes / functions should instead be imported from sklearn.feature_extraction.text. Anything that cannot be imported from sklearn.feature_extraction.text is now part of the private API.\n",
      "  warnings.warn(message, FutureWarning)\n"
     ]
    }
   ],
   "source": [
    "import gensim\n",
    "import nltk as nl\n",
    "from sklearn.feature_extraction import stop_words"
   ]
  },
  {
   "cell_type": "code",
   "execution_count": 15,
   "id": "proprietary-centre",
   "metadata": {},
   "outputs": [],
   "source": [
    "\n",
    "nltk_stopwords = nl.corpus.stopwords.words('english')\n",
    "gensim_stopwords = gensim.parsing.preprocessing.STOPWORDS\n",
    "sklearn_stopwords = stop_words.ENGLISH_STOP_WORDS\n",
    "combined_stopwords = sklearn_stopwords.union(nltk_stopwords,gensim_stopwords)"
   ]
  },
  {
   "cell_type": "code",
   "execution_count": 16,
   "id": "refined-vault",
   "metadata": {},
   "outputs": [
    {
     "name": "stdout",
     "output_type": "stream",
     "text": [
      "NLTK has 179 stop words\n",
      "Gensim has 337 stop words\n",
      "Sklearn has 318 stop words\n",
      "Combined stopwords list has 390 stop words\n"
     ]
    }
   ],
   "source": [
    "print('NLTK has {} stop words'.format(len(nltk_stopwords)))\n",
    "print('Gensim has {} stop words'.format(len(gensim_stopwords)))\n",
    "print('Sklearn has {} stop words'.format(len(sklearn_stopwords)))\n",
    "print('Combined stopwords list has {} stop words'.format(len(combined_stopwords)))"
   ]
  },
  {
   "cell_type": "code",
   "execution_count": 17,
   "id": "choice-legislation",
   "metadata": {},
   "outputs": [],
   "source": [
    "from nltk.stem import PorterStemmer \n",
    "porter_stemmer = PorterStemmer() "
   ]
  },
  {
   "cell_type": "code",
   "execution_count": 32,
   "id": "general-share",
   "metadata": {},
   "outputs": [
    {
     "data": {
      "text/plain": [
       "50000     Donald Trump Sends Out Embarrassing New Year...\n",
       "50001     Drunk Bragging Trump Staffer Started Russian ...\n",
       "50002     Sheriff David Clarke Becomes An Internet Joke...\n",
       "50003     Trump Is So Obsessed He Even Has Obamas Name...\n",
       "50004     Pope Francis Just Called Out Donald Trump Dur...\n",
       "                               ...                        \n",
       "96957    McPain: John McCain Furious That Iran Treated ...\n",
       "96958    JUSTICE? Yahoo Settles E-mail Privacy Class-ac...\n",
       "96959    Sunnistan: US and Allied âSafe Zoneâ Plan ...\n",
       "96960    How to Blow $700 Million: Al Jazeera America F...\n",
       "96961    10 U.S. Navy Sailors Held by Iranian Military ...\n",
       "Name: title, Length: 46962, dtype: object"
      ]
     },
     "execution_count": 32,
     "metadata": {},
     "output_type": "execute_result"
    }
   ],
   "source": [
    "data['title']"
   ]
  },
  {
   "cell_type": "code",
   "execution_count": 34,
   "id": "proof-sandwich",
   "metadata": {},
   "outputs": [
    {
     "data": {
      "text/plain": [
       "50000     donald trump sends out embarrassing new year...\n",
       "50001     drunk bragging trump staffer started russian ...\n",
       "50002     sheriff david clarke becomes an internet joke...\n",
       "50003     trump is so obsessed he even has obamas name...\n",
       "50004     pope francis just called out donald trump dur...\n",
       "                               ...                        \n",
       "96957    mcpain: john mccain furious that iran treated ...\n",
       "96958    justice? yahoo settles e-mail privacy class-ac...\n",
       "96959    sunnistan: us and allied âsafe zoneâ plan ...\n",
       "96960    how to blow $700 million: al jazeera america f...\n",
       "96961    10 u.s. navy sailors held by iranian military ...\n",
       "Name: headline_text, Length: 46962, dtype: object"
      ]
     },
     "execution_count": 34,
     "metadata": {},
     "output_type": "execute_result"
    }
   ],
   "source": [
    "data['headline_text'] = data['title'].apply(lambda x: x.lower())\n",
    "data['headline_text']"
   ]
  },
  {
   "cell_type": "code",
   "execution_count": 36,
   "id": "upset-procedure",
   "metadata": {},
   "outputs": [
    {
     "data": {
      "text/plain": [
       "50000    Donald Trump Sends Out Embarrassing New Eve Th...\n",
       "50001    Drunk Bragging Trump Staffer Started Russian C...\n",
       "50002    Sheriff David Clarke Becomes An Internet Joke ...\n",
       "50003    Trump Is So Obsessed He Even Has Name Coded In...\n",
       "50004    Pope Francis Just Called Out Donald Trump Duri...\n",
       "                               ...                        \n",
       "96957    John McCain Furious That Iran Treated US Sailo...\n",
       "96958                  Yahoo Settles Privacy for for Users\n",
       "96959    US and Allied Plan to Take Territorial Booty i...\n",
       "96960    How to Blow Al Jazeera America Finally Calls i...\n",
       "96961    Navy Sailors Held by Iranian Military Signs of...\n",
       "Name: headline_text, Length: 46962, dtype: object"
      ]
     },
     "execution_count": 36,
     "metadata": {},
     "output_type": "execute_result"
    }
   ],
   "source": [
    "data['headline_text'] = data['title'].apply(lambda x: ' '.join([word for word in x.split() if word.isalpha()]))\n",
    "data['headline_text']"
   ]
  },
  {
   "cell_type": "code",
   "execution_count": 37,
   "id": "expected-behalf",
   "metadata": {},
   "outputs": [
    {
     "data": {
      "text/plain": [
       "50000    donald trump send out embarrass new year eve ...\n",
       "50001    drunk brag trump staffer start russian collus ...\n",
       "50002    sheriff david clark becom An internet joke for...\n",
       "50003    trump Is So obsess He even ha obama name code...\n",
       "50004    pope franci just call out donald trump dure hi...\n",
       "                               ...                        \n",
       "96957    mcpain: john mccain furiou that iran treat US ...\n",
       "96958    justice? yahoo settl e-mail privaci class-acti...\n",
       "96959    sunnistan: US and alli âsafe zoneâ plan to...\n",
       "96960    how to blow $700 million: Al jazeera america f...\n",
       "96961    10 u.s. navi sailor held by iranian militari â...\n",
       "Name: headline_text, Length: 46962, dtype: object"
      ]
     },
     "execution_count": 37,
     "metadata": {},
     "output_type": "execute_result"
    }
   ],
   "source": [
    "data['headline_text'] = data['title'].apply(lambda x: ' '.join([porter_stemmer.stem(word) for word in x.split()]))\n",
    "data['headline_text'] "
   ]
  },
  {
   "cell_type": "code",
   "execution_count": 40,
   "id": "genuine-assessment",
   "metadata": {},
   "outputs": [],
   "source": [
    "from sklearn.model_selection import train_test_split\n",
    "\n",
    "x_train,x_test,y_train,y_test=train_test_split(data['headline_text'], data['title'], test_size=0.2, random_state=7)\n"
   ]
  },
  {
   "cell_type": "code",
   "execution_count": 41,
   "id": "streaming-preliminary",
   "metadata": {},
   "outputs": [
    {
     "name": "stderr",
     "output_type": "stream",
     "text": [
      "Using TensorFlow backend.\n"
     ]
    }
   ],
   "source": [
    "from sklearn.feature_extraction.text import TfidfVectorizer\n",
    "from nltk.tokenize import word_tokenize\n",
    "from sklearn.tree import DecisionTreeClassifier\n",
    "from sklearn.ensemble import RandomForestClassifier\n",
    "from sklearn.svm import SVC\n",
    "from sklearn.naive_bayes import MultinomialNB\n",
    "from sklearn.neighbors import KNeighborsClassifier\n",
    "from keras.models import Sequential\n",
    "from keras.layers import Dense, Activation, Dropout, Conv1D, MaxPooling1D, Flatten, Embedding, GlobalMaxPooling1D\n",
    "from keras.preprocessing.text import Tokenizer\n",
    "from keras.preprocessing.sequence import pad_sequences"
   ]
  },
  {
   "cell_type": "code",
   "execution_count": null,
   "id": "earned-norfolk",
   "metadata": {},
   "outputs": [],
   "source": [
    "tfidf_vectorizer = TfidfVectorizer(tokenizer = word_tokenize, max_features = 300)\n",
    "tfidf_train = tfidf_vectorizer.fit_transform(x_train)\n",
    "tfidf_test = tfidf_vectorizer.transform(x_test)\n",
    "tfidf_features = tfidf_vectorizer.get_feature_names()\n",
    "dt = DecisionTreeClassifier()\n",
    "rf = RandomForestClassifier()\n",
    "svc = SVC(kernel='linear')\n",
    "knn = KNeighborsClassifier()\n",
    "nb = MultinomialNB()\n",
    "\n",
    "dt.fit(tfidf_train, y_train)\n",
    "rf.fit(tfidf_train, y_train)\n",
    "svc.fit(tfidf_train, y_train)\n",
    "knn.fit(tfidf_train, y_train)\n",
    "nb.fit(tfidf_train, y_train)"
   ]
  },
  {
   "cell_type": "code",
   "execution_count": null,
   "id": "modern-biodiversity",
   "metadata": {},
   "outputs": [],
   "source": [
    "print (\"Testing Acc. of Decision Tree: {} %\".format(round(dt.score(tfidf_test, y_test) * 100, 2)))\n",
    "print (\"Testing Acc. of Random Forest: {} %\".format(round(rf.score(tfidf_test, y_test) * 100, 2)))\n",
    "print (\"Testing Acc. of SVC: {} %\".format(round(svc.score(tfidf_test, y_test) * 100, 2)))\n",
    "print (\"Testing Acc. of K-NN: {} %\".format(round(knn.score(tfidf_test, y_test) * 100, 2)))\n",
    "print (\"Testing Acc. of Naive Bayesian: {} %\".format(round(nb.score(tfidf_test, y_test) * 100, 2)))"
   ]
  }
 ],
 "metadata": {
  "kernelspec": {
   "display_name": "Python 3",
   "language": "python",
   "name": "python3"
  },
  "language_info": {
   "codemirror_mode": {
    "name": "ipython",
    "version": 3
   },
   "file_extension": ".py",
   "mimetype": "text/x-python",
   "name": "python",
   "nbconvert_exporter": "python",
   "pygments_lexer": "ipython3",
   "version": "3.6.12"
  }
 },
 "nbformat": 4,
 "nbformat_minor": 5
}
